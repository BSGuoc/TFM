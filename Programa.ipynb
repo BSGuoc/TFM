{
  "nbformat": 4,
  "nbformat_minor": 0,
  "metadata": {
    "colab": {
      "provenance": []
    },
    "kernelspec": {
      "name": "python3",
      "display_name": "Python 3"
    },
    "language_info": {
      "name": "python"
    }
  },
  "cells": [
    {
      "cell_type": "code",
      "execution_count": null,
      "metadata": {
        "id": "6Pe7D9QrboI0"
      },
      "outputs": [],
      "source": [
        "%%writefile app.py\n",
        "import streamlit as st\n",
        "from PIL import Image\n",
        "import numpy as np\n",
        "from tensorflow.keras.models import load_model\n",
        "!pip install streamlit gdown ngrok\n",
        "import gdown\n",
        "\n",
        "# URL del modelo en Google Drive\n",
        "modelo_url = 'https://drive.google.com/file/d/18FQPSeb4N9yDh0FqZfPfz7UpsZH74eEC/view?usp=sharing'\n",
        "modelo='modelo.h5'\n",
        "# Descargar el modelo\n",
        "gdown.download(modelo_url,modelo, quiet=False)\n",
        "\n",
        "\n",
        "# Función para realizar la predicción\n",
        "def predecir_imagen(imagen):\n",
        "    # Cargar el modelo\n",
        "    model = load_model(ruta_modelo)\n",
        "\n",
        "    # Preprocesar la imagen\n",
        "    img = imagen.resize((216, 216))\n",
        "    img_array = np.array(img)\n",
        "    img_array = img_array / 255.0\n",
        "    img_array = np.expand_dims(img_array, axis=0)\n",
        "\n",
        "    # Realizar la predicción\n",
        "    test_predict = model.predict(img_array)\n",
        "    predicho = np.argmax(test_predict, axis=1)\n",
        "    probabil=test_predict\n",
        "    cell_dict_or = {0: \"Benigno\", 1: \"Maligno\", 2: \"Normal\"}\n",
        "    predicho = cell_dict_or[predicho[0]]\n",
        "\n",
        "    return predicho, probabil\n",
        "\n",
        "# Configuración de la página\n",
        "\n",
        "\n",
        "st.title(\"Predicción de imagen de CT\")\n",
        "st.header(\"Con esta app se pretende predecir una imágen de CT de pulmón, con el fin de predecir si es un caso maligno o benigno\")\n",
        "st.subheader(\" Solo tienes que cargar o arrastrar una imagen y pinchar en el botón de predecir que aparecerá abajo\")\n",
        "\n",
        "\n",
        "\n",
        "# Subir una imagen\n",
        "imagen = st.file_uploader(\"Subir una imagen\", type=[\"jpg\", \"jpeg\", \"png\"])\n",
        "\n",
        "if imagen is not None:\n",
        "    # Mostrar la imagen\n",
        "    st.image(imagen, caption=\"Imagen subida\", use_column_width=True)\n",
        "\n",
        "    # Realizar la predicción cuando se presiona el botón\n",
        "    if st.button(\"Predecir\"):\n",
        "        # Convertir la imagen de BytesIO a PIL Image\n",
        "        imagen_pil = Image.open(imagen)\n",
        "\n",
        "        # Realizar la predicción\n",
        "        resultado,probabil = predecir_imagen(imagen_pil)\n",
        "\n",
        "        # Mostrar el resultado\n",
        "        st.header(\"Resultado de la Predicción:\")\n",
        "        st.write(f\"Clasificación: {resultado}\")\n",
        "        st.write(f\"Probabilidad estimada: {round(100*np.max(probabil), 2)}%\")\n",
        "        st.markdown(\"---\")"
      ]
    },
    {
      "cell_type": "code",
      "source": [
        "# Descargas necesarias;\n",
        "\n",
        "!pip install streamlit -q\n",
        "!pip install streamlit -q\n",
        "!pip install pyngrok\n",
        "from pyngrok import ngrok\n",
        "\n",
        "\n",
        "# Se ejecuta Streamlit en segundo plano en el puerto local 80\n",
        "!nohup streamlit run app.py --server.port 80 &\n",
        "\n",
        "# Se define el token de ngrok a utilizar\n",
        "# ngrok.set_auth_token(\"su token\")\n",
        "\n",
        "# Conecta ngrok al puerto 80 (el mismo que Streamlit)\n",
        "ngrok_tunnel = ngrok.connect()\n",
        "url=ngrok_tunnel.public_url\n",
        "url\n"
      ],
      "metadata": {
        "id": "0NxXx-9gcDWV"
      },
      "execution_count": null,
      "outputs": []
    }
  ]
}
