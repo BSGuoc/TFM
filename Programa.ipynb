{
  "cells": [
    {
      "cell_type": "markdown",
      "metadata": {},
      "source": [
        "A continuación tenemos el código que genera nuestra AppWeb en modo local. Habría que copiar este código en Jupyter notebook y ejecutarlo. Primero tenemos la AppWeb en si, que es generado mediante un código que utiliza Streamlit. Dicho código coge el modelo de la red neuronal desde un Drive y lo utiliza para crear un software que pide una imagen y realiza la predicción en base a dicho modelo. A continuación, guarda esta aplicación en un archivo .py. \n",
        "\n",
        "\n"
      ]
    },
    {
      "cell_type": "code",
      "execution_count": null,
      "metadata": {
        "id": "6Pe7D9QrboI0"
      },
      "outputs": [],
      "source": [
        "%%writefile app.py\n",
        "import streamlit as st\n",
        "from PIL import Image\n",
        "import numpy as np\n",
        "import os\n",
        "from tensorflow.keras.models import load_model\n",
        "!%pip install streamlit gdown ngrok\n",
        "import gdown\n",
        "\n",
        "# URL del modelo en Google Drive\n",
        "modelo_url = 'https://drive.google.com/file/d/18FQPSeb4N9yDh0FqZfPfz7UpsZH74eEC/view?usp=sharing'\n",
        "modelo='modelo.h5'\n",
        "# Descargar el modelo\n",
        "gdown.download(modelo_url,modelo, quiet=False)\n",
        "\n",
        "\n",
        "# Función para realizar la predicción\n",
        "def predecir_imagen(imagen):\n",
        "    # Cargar el modelo\n",
        "    model = load_model(ruta_modelo)\n",
        "\n",
        "    # Preprocesar la imagen\n",
        "    img = imagen.resize((216, 216))\n",
        "    img_array = np.array(img)\n",
        "    img_array = img_array / 255.0\n",
        "    img_array = np.expand_dims(img_array, axis=0)\n",
        "\n",
        "    # Realizar la predicción\n",
        "    test_predict = model.predict(img_array)\n",
        "    predicho = np.argmax(test_predict, axis=1)\n",
        "    probabil=test_predict\n",
        "    cell_dict_or = {0: \"Benigno\", 1: \"Maligno\", 2: \"Normal\"}\n",
        "    predicho = cell_dict_or[predicho[0]]\n",
        "\n",
        "    return predicho, probabil\n",
        "\n",
        "# Configuración de la página\n",
        "\n",
        "\n",
        "st.title(\"Predicción de imagen de CT\")\n",
        "st.header(\"Con esta app se pretende predecir una imágen de CT de pulmón, con el fin de predecir si es un caso maligno o benigno\")\n",
        "st.subheader(\" Solo tienes que cargar o arrastrar una imagen y pinchar en el botón de predecir que aparecerá abajo\")\n",
        "\n",
        "\n",
        "\n",
        "# Subir una imagen\n",
        "imagen = st.file_uploader(\"Subir una imagen\", type=[\"jpg\", \"jpeg\", \"png\"])\n",
        "\n",
        "if imagen is not None:\n",
        "    # Mostrar la imagen\n",
        "    st.image(imagen, caption=\"Imagen subida\", use_column_width=True)\n",
        "\n",
        "    # Realizar la predicción cuando se presiona el botón\n",
        "    if st.button(\"Predecir\"):\n",
        "        # Convertir la imagen de BytesIO a PIL Image\n",
        "        imagen_pil = Image.open(imagen)\n",
        "\n",
        "        # Realizar la predicción\n",
        "        resultado,probabil = predecir_imagen(imagen_pil)\n",
        "\n",
        "        # Mostrar el resultado\n",
        "        st.header(\"Resultado de la Predicción:\")\n",
        "        st.write(f\"Clasificación: {resultado}\")\n",
        "        st.write(f\"Probabilidad estimada: {round(100*np.max(probabil), 2)}%\")\n",
        "        st.markdown(\"---\")"
      ]
    },
    {
      "cell_type": "markdown",
      "metadata": {},
      "source": [
        "\n",
        "Una vez se ha generado el archivo .py, hay que abrir un túnel Ngrok para que se muestre. Para ello realizamos las descargas necesarias y seguidamente se define la clave de seguridad \"autho token\", que se puede utilizar uno propio, sustituyendo 'NGROK_AUTH_TOKEN' o se puede utilizar el facilitado en este repositorio, auque tiene una conexión mas inestable. Por último ejecutamos el archivo .py a la vez que se crea el túnel, generando la URL.\n"
      ]
    },
    {
      "cell_type": "code",
      "execution_count": null,
      "metadata": {
        "id": "0NxXx-9gcDWV"
      },
      "outputs": [],
      "source": [
        "# Descargas necesarias;\n",
        "\n",
        "!pip install streamlit -q\n",
        "!pip install streamlit -q\n",
        "!pip install pyngrok\n",
        "from pyngrok import ngrok\n",
        "\n",
        "# Se define el token de ngrok a utilizar, ya sea propio o el facilitado\n",
        "ngrok.set_auth_token(os.getenv('NGROK_AUTH_TOKEN'))\n",
        "\n",
        "# Se ejecuta Streamlit en segundo plano en el puerto local 80\n",
        "!nohup streamlit run app.py --server.port 80 &\n",
        "\n",
        "\n",
        "# Conecta ngrok al puerto 80 (el mismo que Streamlit)\n",
        "ngrok_tunnel = ngrok.connect()\n",
        "url=ngrok_tunnel.public_url\n",
        "url\n"
      ]
    },
{
      "cell_type": "markdown",
      "metadata": {},
      "source": [
        "Dejo a continuación un correo de contacto en caso de dudas y sugerencias: bspagom@uoc.edu \n",
        "\n",
        "\n"
      ]
    },
  ],
  "metadata": {
    "colab": {
      "provenance": []
    },
    "kernelspec": {
      "display_name": "Python 3",
      "name": "python3"
    },
    "language_info": {
      "name": "python"
    }
  },
  "nbformat": 4,
  "nbformat_minor": 0
}
